{
 "cells": [
  {
   "cell_type": "code",
   "execution_count": 1,
   "id": "0e264aa0",
   "metadata": {
    "execution": {
     "iopub.execute_input": "2022-12-06T06:38:00.134492Z",
     "iopub.status.busy": "2022-12-06T06:38:00.133306Z",
     "iopub.status.idle": "2022-12-06T06:38:10.551269Z",
     "shell.execute_reply": "2022-12-06T06:38:10.549972Z"
    },
    "id": "Pa4igSGckaVD",
    "outputId": "a8878b45-57de-4880-b279-f239ed275ef5",
    "papermill": {
     "duration": 10.432589,
     "end_time": "2022-12-06T06:38:10.554234",
     "exception": false,
     "start_time": "2022-12-06T06:38:00.121645",
     "status": "completed"
    },
    "tags": []
   },
   "outputs": [
    {
     "name": "stdout",
     "output_type": "stream",
     "text": [
      "Requirement already satisfied: transformers in /opt/conda/lib/python3.7/site-packages (4.20.1)\r\n",
      "Requirement already satisfied: regex!=2019.12.17 in /opt/conda/lib/python3.7/site-packages (from transformers) (2021.11.10)\r\n",
      "Requirement already satisfied: pyyaml>=5.1 in /opt/conda/lib/python3.7/site-packages (from transformers) (6.0)\r\n",
      "Requirement already satisfied: tqdm>=4.27 in /opt/conda/lib/python3.7/site-packages (from transformers) (4.64.0)\r\n",
      "Requirement already satisfied: importlib-metadata in /opt/conda/lib/python3.7/site-packages (from transformers) (4.13.0)\r\n",
      "Requirement already satisfied: huggingface-hub<1.0,>=0.1.0 in /opt/conda/lib/python3.7/site-packages (from transformers) (0.10.1)\r\n",
      "Requirement already satisfied: filelock in /opt/conda/lib/python3.7/site-packages (from transformers) (3.7.1)\r\n",
      "Requirement already satisfied: tokenizers!=0.11.3,<0.13,>=0.11.1 in /opt/conda/lib/python3.7/site-packages (from transformers) (0.12.1)\r\n",
      "Requirement already satisfied: packaging>=20.0 in /opt/conda/lib/python3.7/site-packages (from transformers) (21.3)\r\n",
      "Requirement already satisfied: numpy>=1.17 in /opt/conda/lib/python3.7/site-packages (from transformers) (1.21.6)\r\n",
      "Requirement already satisfied: requests in /opt/conda/lib/python3.7/site-packages (from transformers) (2.28.1)\r\n",
      "Requirement already satisfied: typing-extensions>=3.7.4.3 in /opt/conda/lib/python3.7/site-packages (from huggingface-hub<1.0,>=0.1.0->transformers) (4.1.1)\r\n",
      "Requirement already satisfied: pyparsing!=3.0.5,>=2.0.2 in /opt/conda/lib/python3.7/site-packages (from packaging>=20.0->transformers) (3.0.9)\r\n",
      "Requirement already satisfied: zipp>=0.5 in /opt/conda/lib/python3.7/site-packages (from importlib-metadata->transformers) (3.8.0)\r\n",
      "Requirement already satisfied: urllib3<1.27,>=1.21.1 in /opt/conda/lib/python3.7/site-packages (from requests->transformers) (1.26.12)\r\n",
      "Requirement already satisfied: certifi>=2017.4.17 in /opt/conda/lib/python3.7/site-packages (from requests->transformers) (2022.9.24)\r\n",
      "Requirement already satisfied: idna<4,>=2.5 in /opt/conda/lib/python3.7/site-packages (from requests->transformers) (3.3)\r\n",
      "Requirement already satisfied: charset-normalizer<3,>=2 in /opt/conda/lib/python3.7/site-packages (from requests->transformers) (2.1.0)\r\n",
      "\u001b[33mWARNING: Running pip as the 'root' user can result in broken permissions and conflicting behaviour with the system package manager. It is recommended to use a virtual environment instead: https://pip.pypa.io/warnings/venv\u001b[0m\u001b[33m\r\n",
      "\u001b[0m"
     ]
    }
   ],
   "source": [
    "!pip install transformers"
   ]
  },
  {
   "cell_type": "code",
   "execution_count": 2,
   "id": "09263c6b",
   "metadata": {
    "execution": {
     "iopub.execute_input": "2022-12-06T06:38:10.576151Z",
     "iopub.status.busy": "2022-12-06T06:38:10.574360Z",
     "iopub.status.idle": "2022-12-06T06:38:10.592632Z",
     "shell.execute_reply": "2022-12-06T06:38:10.591760Z"
    },
    "id": "d9814c4a",
    "papermill": {
     "duration": 0.030996,
     "end_time": "2022-12-06T06:38:10.594738",
     "exception": false,
     "start_time": "2022-12-06T06:38:10.563742",
     "status": "completed"
    },
    "pycharm": {
     "name": "#%%\n"
    },
    "tags": []
   },
   "outputs": [],
   "source": [
    "from PIL import Image, ImageDraw\n",
    "import matplotlib.pyplot as plt\n",
    "import numpy as np\n",
    "from enum import IntEnum\n",
    "from abc import ABC, abstractmethod\n",
    "import random\n",
    "import math"
   ]
  },
  {
   "cell_type": "code",
   "execution_count": 3,
   "id": "cfac1d34",
   "metadata": {
    "execution": {
     "iopub.execute_input": "2022-12-06T06:38:10.614365Z",
     "iopub.status.busy": "2022-12-06T06:38:10.613563Z",
     "iopub.status.idle": "2022-12-06T06:38:14.104312Z",
     "shell.execute_reply": "2022-12-06T06:38:14.103137Z"
    },
    "id": "c3a2cfd7",
    "papermill": {
     "duration": 3.503329,
     "end_time": "2022-12-06T06:38:14.107115",
     "exception": false,
     "start_time": "2022-12-06T06:38:10.603786",
     "status": "completed"
    },
    "tags": []
   },
   "outputs": [],
   "source": [
    "import requests\n",
    "import torch\n",
    "from transformers import CLIPProcessor, CLIPModel\n",
    "from torchvision.transforms import Compose, Resize, CenterCrop, ToTensor, Normalize"
   ]
  },
  {
   "cell_type": "code",
   "execution_count": 4,
   "id": "2a272faf",
   "metadata": {
    "execution": {
     "iopub.execute_input": "2022-12-06T06:38:14.128639Z",
     "iopub.status.busy": "2022-12-06T06:38:14.127851Z",
     "iopub.status.idle": "2022-12-06T06:38:14.133809Z",
     "shell.execute_reply": "2022-12-06T06:38:14.132939Z"
    },
    "id": "4c91351b",
    "papermill": {
     "duration": 0.018258,
     "end_time": "2022-12-06T06:38:14.135780",
     "exception": false,
     "start_time": "2022-12-06T06:38:14.117522",
     "status": "completed"
    },
    "pycharm": {
     "name": "#%%\n"
    },
    "tags": []
   },
   "outputs": [],
   "source": [
    "class Action(IntEnum):\n",
    "    UP = 3\n",
    "    DOWN = 1\n",
    "    RIGHT = 0\n",
    "    LEFT = 2"
   ]
  },
  {
   "cell_type": "code",
   "execution_count": 5,
   "id": "409e89cf",
   "metadata": {
    "execution": {
     "iopub.execute_input": "2022-12-06T06:38:14.154656Z",
     "iopub.status.busy": "2022-12-06T06:38:14.154376Z",
     "iopub.status.idle": "2022-12-06T06:38:14.161313Z",
     "shell.execute_reply": "2022-12-06T06:38:14.160365Z"
    },
    "id": "744ef12f",
    "papermill": {
     "duration": 0.018682,
     "end_time": "2022-12-06T06:38:14.163321",
     "exception": false,
     "start_time": "2022-12-06T06:38:14.144639",
     "status": "completed"
    },
    "pycharm": {
     "name": "#%%\n"
    },
    "tags": []
   },
   "outputs": [],
   "source": [
    "COLORS = {\n",
    "    \"red\": '#FF000000',\n",
    "    \"green\": '#00FF00',\n",
    "    \"blue\": '#0000FF',\n",
    "    \"purple\": '#A020F0',\n",
    "    \"yellow\": '#FFFF00',\n",
    "    \"grey\": '#808080',\n",
    "}\n",
    "\n",
    "# Map of object type to integers\n",
    "OBJECT_TO_IDX = {\n",
    "    \"empty\": 0,\n",
    "    \"agent\": 1,\n",
    "    \"object\":2,\n",
    "    \"goal\": 8,\n",
    "}\n",
    "\n",
    "IDX_TO_OBJECT = {v: k for k, v in OBJECT_TO_IDX.items()}\n",
    "HEX_TO_COLOR = {v: k for k, v in COLORS.items()}\n",
    "\n",
    "SHAPES_TO_IDX = {\n",
    "    'triangle' : 0,\n",
    "    'circle' : 1,\n",
    "    'square' : 2,\n",
    "    'rectangle' : 3\n",
    "}\n",
    "\n",
    "# Map of agent direction indices to vectors\n",
    "DIR_TO_VEC = [\n",
    "    # Right (positive X)\n",
    "    np.array((1, 0)),\n",
    "    # Down (positive Y)\n",
    "    np.array((0, 1)),\n",
    "    # Left (negative X)\n",
    "    np.array((-1, 0)),\n",
    "    # Up (negative Y)\n",
    "    np.array((0, -1)),\n",
    "]"
   ]
  },
  {
   "cell_type": "code",
   "execution_count": 6,
   "id": "1fc08941",
   "metadata": {
    "execution": {
     "iopub.execute_input": "2022-12-06T06:38:14.182568Z",
     "iopub.status.busy": "2022-12-06T06:38:14.182296Z",
     "iopub.status.idle": "2022-12-06T06:38:14.243131Z",
     "shell.execute_reply": "2022-12-06T06:38:14.242219Z"
    },
    "id": "6c4dd3ca",
    "papermill": {
     "duration": 0.073047,
     "end_time": "2022-12-06T06:38:14.245248",
     "exception": false,
     "start_time": "2022-12-06T06:38:14.172201",
     "status": "completed"
    },
    "pycharm": {
     "name": "#%%\n"
    },
    "tags": []
   },
   "outputs": [],
   "source": [
    "class Shape:\n",
    "    '''\n",
    "        Attributes\n",
    "        ----------\n",
    "        distance_from_cooridinates : int\n",
    "             How far the center should be from the points\n",
    "        color : str\n",
    "            A hex representation of the color that triangle should be\n",
    "        fill : str\n",
    "            Whether the object should be filled or not\n",
    "\n",
    "        Methods\n",
    "        -------\n",
    "        init(self, size=int, color=str, fill=Bool, sound=None)\n",
    "            Initializes the class\n",
    "        draw(self, world=ImageDraw, x=int, y=int)\n",
    "            Draws the triangle to the given Image at the x,y coordinates\n",
    "        get_coordinates(self, x=int, y=int)\n",
    "            Given a centerpoint, calculates the points of the triangle\n",
    "    '''\n",
    "\n",
    "    def __init__(self, size, color, fill=False, initial_loc=(-1, -1)):\n",
    "        self.distance_from_coordinate = (size / 2)\n",
    "        self.color = color\n",
    "        self.fill = fill\n",
    "        self.row, self.col = initial_loc\n",
    "\n",
    "    @abstractmethod\n",
    "    def draw(self, world, x, y):\n",
    "        pass\n",
    "\n",
    "    @abstractmethod\n",
    "    def get_coordinates(self, x, y):\n",
    "        pass\n",
    "\n",
    "\n",
    "class Triangle(Shape):\n",
    "    def __init__(self, size, color, fill=False, initial_loc=(-1, -1)):\n",
    "        Shape.__init__(self, size, color, fill, initial_loc)\n",
    "        self.shape = \"triangle\"\n",
    "\n",
    "    # Draw a triangle around this point\n",
    "    def draw(self, world, x, y):\n",
    "        ImageDraw.ink = self.color\n",
    "        bottom_left, bottom_right, top = self.get_coordinates(x, y)\n",
    "        world.polygon([bottom_left, bottom_right, top], self.color, outline=\"black\")\n",
    "\n",
    "    def get_coordinates(self, x, y):\n",
    "        x1 = x - self.distance_from_coordinate\n",
    "        x2 = x + self.distance_from_coordinate\n",
    "        x3 = x\n",
    "        y1 = y + self.distance_from_coordinate\n",
    "        y2 = y + self.distance_from_coordinate\n",
    "        y3 = y - self.distance_from_coordinate\n",
    "\n",
    "        return (x1, y1), (x2, y2), (x3, y3)\n",
    "\n",
    "\n",
    "class Rectangle(Shape):\n",
    "    def __init__(self, size, color, fill=False, initial_loc=(-1, -1)):\n",
    "        Shape.__init__(self, size, color, fill, initial_loc)\n",
    "        self.shape = \"rectangle\"\n",
    "\n",
    "    # Draw a triangle around this point\n",
    "    def draw(self, world, x, y):\n",
    "        ImageDraw.ink = self.color\n",
    "        top_left, bottom_right = self.get_coordinates(x, y)\n",
    "\n",
    "        world.rectangle([top_left, bottom_right], self.color, outline=\"black\")\n",
    "\n",
    "    def get_coordinates(self, x, y):\n",
    "        height = self.distance_from_coordinate / 2\n",
    "        x1, y1 = x - self.distance_from_coordinate, y - height\n",
    "        x2, y2 = x + self.distance_from_coordinate, y + height\n",
    "        return (x1, y1), (x2, y2)\n",
    "\n",
    "\n",
    "class Square(Shape):\n",
    "    def __init__(self, size, color, fill=False, initial_loc=(-1, -1)):\n",
    "        Shape.__init__(self, size, color, fill, initial_loc)\n",
    "        self.shape = \"square\"\n",
    "\n",
    "    def draw(self, world, x, y):\n",
    "        ImageDraw.ink = self.color\n",
    "        top_left, bottom_right = self.get_coordinates(x, y)\n",
    "        world.rectangle([top_left, bottom_right], self.color, outline=\"black\")\n",
    "\n",
    "    def get_coordinates(self, x, y):\n",
    "        x1, y1 = x - self.distance_from_coordinate, y - self.distance_from_coordinate\n",
    "        x2, y2 = x + self.distance_from_coordinate, y + self.distance_from_coordinate\n",
    "        return (x1, y1), (x2, y2)\n",
    "\n",
    "\n",
    "class Circle(Shape):\n",
    "    def __init__(self, size, color, fill=False, initial_loc=(-1, -1)):\n",
    "        Shape.__init__(self, size, color, fill, initial_loc)\n",
    "        self.shape = \"circle\"\n",
    "\n",
    "    def draw(self, world, x, y):\n",
    "        ImageDraw.ink = self.color\n",
    "        bottom_left, top_right = self.get_coordinates(x, y)\n",
    "        world.ellipse([bottom_left, top_right], fill=self.color, outline=\"black\")\n",
    "\n",
    "    def get_coordinates(self, x, y):\n",
    "        x1, y1 = x - self.distance_from_coordinate, y - self.distance_from_coordinate\n",
    "        x2, y2 = x + self.distance_from_coordinate, y + self.distance_from_coordinate\n",
    "        return (x1, y1), (x2, y2)\n",
    "\n",
    "\n",
    "class Goal:\n",
    "    def __init__(self, world=None, starting_loc=(-1, -1), shape=Square, color='#FFFF00', grid_size = 5):\n",
    "        self.world = world\n",
    "        self.row, self.col = starting_loc\n",
    "        self.shape = shape(grid_size / 2, color)\n",
    "\n",
    "    def __str__(self):\n",
    "        location = \"Location: (\" + str(self.row) + \",\" + str(self.col) + \") \"\n",
    "        obj = self.get_name()\n",
    "        return location + obj\n",
    "\n",
    "    def get_name(self):\n",
    "        return HEX_TO_COLOR[self.shape.color] + \" \" + self.shape.shape\n",
    "    \n",
    "    def get_color(self):\n",
    "        return HEX_TO_COLOR[self.shape.color]\n",
    "    \n",
    "    def get_shape(self):\n",
    "        return self.shape.shape\n",
    "    \n",
    "    def get_location(self):\n",
    "        return np.asarray([self.row, self.col])\n",
    "\n",
    "    def update_loc(self, row, col):\n",
    "        self.row = row\n",
    "        self.col = col\n",
    "\n",
    "    def draw(self, world, x, y):\n",
    "        self.shape.draw(world, x, y)\n",
    "\n",
    "    def update_world_reference(self, world):\n",
    "        self.world = world\n",
    "        \n",
    "\n",
    "SHAPES = {\n",
    "    \"triangle\": Triangle,\n",
    "    \"square\": Square,\n",
    "    \"circle\": Circle,\n",
    "    \"rectangle\": Rectangle\n",
    "}\n",
    "\n",
    "\n",
    "class Agent:\n",
    "    def __init__(self, world=None, starting_loc=(-1, -1), shape=Triangle, color='#FFFF00', grid_size = 5):\n",
    "        self.world = world\n",
    "        self.row, self.col = starting_loc\n",
    "        self.grid_size = grid_size\n",
    "        self.shape = shape(grid_size / 2, color)\n",
    "\n",
    "    def __str__(self):\n",
    "        location = \"Location: (\" + str(self.row) + \",\" + str(self.col) + \") \"\n",
    "        obj = self.get_name()\n",
    "        return location + obj\n",
    "\n",
    "    def get_name(self):\n",
    "        return HEX_TO_COLOR[self.shape.color] + \" \" + self.shape.shape\n",
    "    \n",
    "    def get_color(self):\n",
    "        return HEX_TO_COLOR[self.shape.color]\n",
    "    \n",
    "    def get_shape(self):\n",
    "        return self.shape.shape\n",
    "\n",
    "    def update_loc(self, row, col):\n",
    "        self.row = row\n",
    "        self.col = col\n",
    "\n",
    "    def draw(self, world, x, y):\n",
    "        self.shape.draw(world, x, y)\n",
    "\n",
    "    # 0 - Right, 1 - Down, 2 - Left, 3 - Up\n",
    "    def move(self, direction):\n",
    "        x_change, y_change = DIR_TO_VEC[direction]\n",
    "        new_row, new_col = self.row + x_change, self.col + y_change\n",
    "\n",
    "        if self.world.space_can_be_visited(new_row, new_col):\n",
    "            self.update_loc(new_row, new_col)\n",
    "            self.world.update_agent_pos(new_row, new_col)\n",
    "\n",
    "    def update_world_reference(self, world):\n",
    "        self.world = world\n",
    "    \n",
    "    def get_location(self):\n",
    "        return np.asarray([self.row, self.col])\n",
    "\n",
    "class GridWorld:\n",
    "    \"\"\"\n",
    "            This acts as our 2d world. Will handle logic of keeping objects in place\n",
    "\n",
    "    \"\"\"\n",
    "    def __init__(self, size, background_color='#FFFFFF', agent = None, goal = None, max_obstacles = 0, grid_size=5):\n",
    "        self.image = None\n",
    "        self.pencil = None\n",
    "        self.size = size\n",
    "        self.grid_size = grid_size\n",
    "        self.x_offset = int(abs((WIDTH - size * grid_size) / 2))\n",
    "        self.y_offset = int(abs((HEIGHT - size * grid_size) / 2))\n",
    "\n",
    "        self.world = np.empty(shape=(size, size), dtype=object)\n",
    "\n",
    "        if agent is None:\n",
    "            self.agent = Agent(self)\n",
    "        else:\n",
    "            self.agent = agent\n",
    "            self.agent.update_world_reference(self)\n",
    "\n",
    "        if goal is None:\n",
    "            self.goal = Goal(self)\n",
    "        else:\n",
    "            self.goal = goal\n",
    "            self.goal.update_world_reference(self)\n",
    "\n",
    "\n",
    "        max_obstacles = min(max_obstacles, math.floor((self.size ** 2) / 3))\n",
    "        self.total_obstacles = random.randint(0, max_obstacles)\n",
    "        \n",
    "        self.objective_full_connected = \"The \" + self.agent.get_name() + \" is connected to the \" + self.goal.get_name()\n",
    "        self.objective_full_close = \"The \" + self.agent.get_name() + \" is close to the \" + self.goal.get_name()\n",
    "        \n",
    "        self.objective_shape_connected = \"The \" + self.agent.get_shape() + \" is connected to the \" + self.goal.get_shape()\n",
    "        self.objective_shape_close = \"The \" + self.agent.get_shape() + \" is close to the \" + self.goal.get_shape()\n",
    "        \n",
    "        self.objective_color_connected = \"The \" + self.agent.get_color() + \" shape is connected to the \" + self.goal.get_color()+\" shape\"\n",
    "        self.objective_color_close = \"The \" + self.agent.get_color() + \" shape is close to the \" + self.goal.get_color()+\" shape\"\n",
    "        \n",
    "        self.__setup_initial_locations()\n",
    "\n",
    "        if DEBUG:\n",
    "            print(self.agent)\n",
    "            print(self.goal)\n",
    "            \n",
    "    def __setup_initial_locations(self):\n",
    "        # Makes min objects 1, so goal can be placed\n",
    "        total_objects = self.total_obstacles\n",
    "        agent_row, agent_col = self.__find_free_space('agent')\n",
    "        self.agent.update_loc(agent_row, agent_col)\n",
    "\n",
    "        goal_row, goal_col = self.__find_free_space('goal')\n",
    "        self.goal.update_loc(goal_row, goal_col)\n",
    "\n",
    "        while total_objects > 0:\n",
    "            row, col = self.__find_free_space('object')\n",
    "            if row == -1 and col == -1:\n",
    "                break\n",
    "            else:\n",
    "                total_objects -= 1\n",
    "                \n",
    "    def get_objectives(self):\n",
    "        return [self.objective_full_connected, self.objective_full_close,self.objective_shape_connected,self.objective_shape_close,self.objective_color_connected,self.objective_color_close ]\n",
    "\n",
    "    def is_goal_reached(self):\n",
    "        if(self.agent.row == self.goal.row and self.agent.col == self.goal.col):\n",
    "            return True\n",
    "        return False\n",
    "\n",
    "    def display_image(self):\n",
    "        self.draw()\n",
    "        plt.imshow(self.image)\n",
    "\n",
    "    def save_image(self):\n",
    "        self.draw()\n",
    "        uuid_string = uuid.uuid4().hex.upper()[0:6]\n",
    "        filename = time.strftime(\"%Y%m%d-%H%M%S\")\n",
    "        self.image.save(DIR + uuid_string + \"-\" + filename + '.png')\n",
    "        \n",
    "    def get_world_image(self):\n",
    "        self.draw()\n",
    "        return self.image\n",
    "\n",
    "    # Draws the individual grids, as well as the objects contained in the underlying array\n",
    "    def draw(self):\n",
    "        self.refresh_canvas()\n",
    "        step_size = self.grid_size\n",
    "\n",
    "        y_start = self.y_offset\n",
    "        y_end = self.y_offset + (step_size * self.size)\n",
    "        x_start = self.x_offset\n",
    "        x_end = self.x_offset + (step_size * self.size)\n",
    "\n",
    "        for x in range(y_start, y_end + 1, step_size):\n",
    "            line = ((x, y_start), (x, y_end))\n",
    "            self.pencil.line(line, fill=128)\n",
    "\n",
    "        for y in range(x_start, x_end + 1, step_size):\n",
    "            line = ((x_start, y), (x_end, y))\n",
    "            self.pencil.line(line, fill=128)\n",
    "        self.draw_objects()\n",
    "\n",
    "        return step_size\n",
    "\n",
    "    # Draws the objects in the associated array\n",
    "    def draw_objects(self):\n",
    "        for col in range(0, self.size):\n",
    "            for row in range(0, self.size):\n",
    "                world_object = self.world[row, col]\n",
    "\n",
    "                if world_object is not None:\n",
    "                    if isinstance(world_object, Agent):\n",
    "                        x, y = self.get_coordinates_from_array_loc(row, col)\n",
    "                        self.agent.draw(self.pencil, x, y)\n",
    "                    elif isinstance(world_object, Goal):\n",
    "                        x, y = self.get_coordinates_from_array_loc(row, col)\n",
    "                        self.goal.draw(self.pencil, x, y)\n",
    "                    else:\n",
    "                        x, y = self.get_coordinates_from_array_loc(row, col)\n",
    "                        world_object.draw(self.pencil, x, y)\n",
    "\n",
    "    def get_coordinates_from_array_loc(self, row, col):\n",
    "        centroid = self.grid_size / 2\n",
    "        x = centroid + self.x_offset + (self.grid_size * row)\n",
    "        y = centroid + self.y_offset + (self.grid_size * col)\n",
    "        return x, y\n",
    "\n",
    "    def __find_free_space(self, object_to_place):\n",
    "        #print(\"Placing \" + object_to_place)\n",
    "        count = 0\n",
    "        row, col = None, None\n",
    "        while row is None and col is None or self.world[row, col] is not None:\n",
    "            if count > self.size:\n",
    "                return -1, -1\n",
    "            row = random.randint(0, self.world.shape[0] - 1)\n",
    "            col = random.randint(0, self.world.shape[1] - 1)\n",
    "            count += 1\n",
    "\n",
    "        if object_to_place == 'object':\n",
    "            shape, color = get_random_unique_shape_and_color(self)\n",
    "            self.world[row, col] = SHAPES[shape](self.grid_size / 2, color)\n",
    "        elif object_to_place == 'agent':\n",
    "            self.world[row, col] = self.agent\n",
    "        elif object_to_place == 'goal':\n",
    "            self.world[row, col] = self.goal\n",
    "\n",
    "        return row, col\n",
    "\n",
    "    def space_can_be_visited(self, row, col):\n",
    "        if (row < self.size and col < self.size) and (row >= 0 and col >= 0) \\\n",
    "                and (self.world[row, col] is None or isinstance(self.world[row, col], Goal)):\n",
    "            return True\n",
    "        else:\n",
    "            return False\n",
    "        \n",
    "    def can_move(self, row, col):\n",
    "        if (row < self.size and col < self.size) and (row >= 0 and col >= 0) \\\n",
    "                and (self.world[row, col] is None) :\n",
    "            return True\n",
    "        else:\n",
    "            return False\n",
    "\n",
    "    def update_agent_pos(self, row, col):\n",
    "        self.agent.update_loc(row,col)\n",
    "        for row in range(0, len(self.world)):\n",
    "            for col in range(0, len(self.world[row])):\n",
    "                if isinstance(self.world[row, col], Agent):\n",
    "                    self.world[row, col] = None\n",
    "        self.world[self.agent.row, self.agent.col] = self.agent\n",
    "    \n",
    "    def update_goal_pos(self, row, col):\n",
    "        self.goal.update_loc(row,col)\n",
    "        for row in range(0, len(self.world)):\n",
    "            for col in range(0, len(self.world[row])):\n",
    "                if isinstance(self.world[row, col], Goal):\n",
    "                    self.world[row, col] = None\n",
    "        self.world[self.goal.row, self.goal.col] = self.goal\n",
    "\n",
    "    def refresh_canvas(self):\n",
    "        if self.pencil is not None:\n",
    "            del self.image\n",
    "            del self.pencil\n",
    "        image = Image.new(mode='RGB', size=(WIDTH, HEIGHT), color=(255, 255, 255, 0))\n",
    "        self.pencil = ImageDraw.Draw(image)\n",
    "        self.image = image\n",
    "\n",
    "\n",
    "def get_random_shape():\n",
    "    return random.sample(list(SHAPES), 1)[0]\n",
    "\n",
    "\n",
    "def get_random_color():\n",
    "    return random.sample(list(COLORS), 1)[0]\n",
    "\n",
    "\n",
    "def get_random_unique_shape_and_color(world):\n",
    "    agent_shape = world.agent.shape.shape\n",
    "    agent_color = world.agent.shape.color\n",
    "    goal_shape = world.goal.shape.shape\n",
    "    goal_color = world.goal.shape.color\n",
    "\n",
    "    random_shape = None\n",
    "    random_color = None\n",
    "    # Keep going until you have a unique shape/color that is not an agent or goal\n",
    "    while (random_shape is None and random_color is None) or \\\n",
    "            (random_shape == agent_shape and random_color == agent_color) or \\\n",
    "            (random_shape == goal_shape and random_color == goal_color):\n",
    "        random_shape = get_random_shape()\n",
    "        random_color = get_random_color()\n",
    "\n",
    "    return random_shape, random_color"
   ]
  },
  {
   "cell_type": "code",
   "execution_count": 7,
   "id": "085f0e69",
   "metadata": {
    "execution": {
     "iopub.execute_input": "2022-12-06T06:38:14.264870Z",
     "iopub.status.busy": "2022-12-06T06:38:14.264587Z",
     "iopub.status.idle": "2022-12-06T06:38:14.271660Z",
     "shell.execute_reply": "2022-12-06T06:38:14.270679Z"
    },
    "id": "a9f669ad",
    "papermill": {
     "duration": 0.019306,
     "end_time": "2022-12-06T06:38:14.273727",
     "exception": false,
     "start_time": "2022-12-06T06:38:14.254421",
     "status": "completed"
    },
    "pycharm": {
     "name": "#%%\n"
    },
    "tags": []
   },
   "outputs": [],
   "source": [
    "COLORS = {\n",
    "    \"red\": '#FF000000',\n",
    "    \"green\": '#00FF00',\n",
    "    \"blue\": '#0000FF',\n",
    "    \"purple\": '#A020F0',\n",
    "    \"yellow\": '#FFFF00',\n",
    "    \"grey\": '#808080',\n",
    "}\n",
    "\n",
    "SHAPES = {\n",
    "    \"triangle\": Triangle,\n",
    "    \"square\": Square,\n",
    "    \"circle\": Circle,\n",
    "    \"rectangle\": Rectangle\n",
    "}\n",
    "\n",
    "# Map of object type to integers\n",
    "OBJECT_TO_IDX = {\n",
    "    \"empty\": 0,\n",
    "    \"agent\": 1,\n",
    "    \"object\":2,\n",
    "    \"goal\": 8,\n",
    "}\n",
    "\n",
    "IDX_TO_OBJECT = {v: k for k, v in OBJECT_TO_IDX.items()}\n",
    "HEX_TO_COLOR = {v: k for k, v in COLORS.items()}\n",
    "\n",
    "# Map of agent direction indices to vectors\n",
    "DIR_TO_VEC = [\n",
    "    # Right (positive X)\n",
    "    np.array((1, 0)),\n",
    "    # Down (positive Y)\n",
    "    np.array((0, 1)),\n",
    "    # Left (negative X)\n",
    "    np.array((-1, 0)),\n",
    "    # Up (negative Y)\n",
    "    np.array((0, -1)),\n",
    "]"
   ]
  },
  {
   "cell_type": "code",
   "execution_count": null,
   "id": "1280d409",
   "metadata": {
    "id": "412d61e5",
    "papermill": {
     "duration": 0.008745,
     "end_time": "2022-12-06T06:38:14.291429",
     "exception": false,
     "start_time": "2022-12-06T06:38:14.282684",
     "status": "completed"
    },
    "pycharm": {
     "name": "#%%\n"
    },
    "tags": []
   },
   "outputs": [],
   "source": []
  },
  {
   "cell_type": "code",
   "execution_count": 8,
   "id": "9c20b977",
   "metadata": {
    "execution": {
     "iopub.execute_input": "2022-12-06T06:38:14.310323Z",
     "iopub.status.busy": "2022-12-06T06:38:14.310051Z",
     "iopub.status.idle": "2022-12-06T06:38:14.479057Z",
     "shell.execute_reply": "2022-12-06T06:38:14.477692Z"
    },
    "id": "ba1b940c",
    "outputId": "b573ffd5-3ff0-4de3-8fe7-8c1df025d26c",
    "papermill": {
     "duration": 0.180472,
     "end_time": "2022-12-06T06:38:14.480691",
     "exception": true,
     "start_time": "2022-12-06T06:38:14.300219",
     "status": "failed"
    },
    "pycharm": {
     "name": "#%%\n"
    },
    "tags": []
   },
   "outputs": [
    {
     "ename": "NameError",
     "evalue": "name 'WIDTH' is not defined",
     "output_type": "error",
     "traceback": [
      "\u001b[0;31m---------------------------------------------------------------------------\u001b[0m",
      "\u001b[0;31mNameError\u001b[0m                                 Traceback (most recent call last)",
      "\u001b[0;32m/tmp/ipykernel_23/3826477619.py\u001b[0m in \u001b[0;36m<module>\u001b[0;34m\u001b[0m\n\u001b[0;32m----> 1\u001b[0;31m \u001b[0mworld2\u001b[0m \u001b[0;34m=\u001b[0m \u001b[0mGridWorld\u001b[0m\u001b[0;34m(\u001b[0m\u001b[0;36m5\u001b[0m\u001b[0;34m,\u001b[0m \u001b[0mmax_obstacles\u001b[0m\u001b[0;34m=\u001b[0m\u001b[0;36m0\u001b[0m\u001b[0;34m,\u001b[0m \u001b[0mgrid_size\u001b[0m \u001b[0;34m=\u001b[0m \u001b[0mWIDTH\u001b[0m\u001b[0;34m//\u001b[0m\u001b[0;36m5\u001b[0m\u001b[0;34m)\u001b[0m\u001b[0;34m\u001b[0m\u001b[0;34m\u001b[0m\u001b[0m\n\u001b[0m\u001b[1;32m      2\u001b[0m \u001b[0mworld2\u001b[0m\u001b[0;34m.\u001b[0m\u001b[0mdisplay_image\u001b[0m\u001b[0;34m(\u001b[0m\u001b[0;34m)\u001b[0m\u001b[0;34m\u001b[0m\u001b[0;34m\u001b[0m\u001b[0m\n\u001b[1;32m      3\u001b[0m \u001b[0mworld2\u001b[0m\u001b[0;34m.\u001b[0m\u001b[0mis_goal_reached\u001b[0m\u001b[0;34m(\u001b[0m\u001b[0;34m)\u001b[0m\u001b[0;34m\u001b[0m\u001b[0;34m\u001b[0m\u001b[0m\n",
      "\u001b[0;31mNameError\u001b[0m: name 'WIDTH' is not defined"
     ]
    }
   ],
   "source": [
    "world2 = GridWorld(5, max_obstacles=0, grid_size = WIDTH//5)\n",
    "world2.display_image()\n",
    "world2.is_goal_reached()"
   ]
  },
  {
   "cell_type": "code",
   "execution_count": null,
   "id": "5ae603d5",
   "metadata": {
    "execution": {
     "iopub.execute_input": "2022-12-03T06:25:04.295578Z",
     "iopub.status.busy": "2022-12-03T06:25:04.294662Z",
     "iopub.status.idle": "2022-12-03T06:25:04.303144Z",
     "shell.execute_reply": "2022-12-03T06:25:04.302023Z",
     "shell.execute_reply.started": "2022-12-03T06:25:04.295539Z"
    },
    "id": "58e1bb90",
    "outputId": "d2262fba-c2aa-49a0-9e59-457d06e98123",
    "papermill": {
     "duration": null,
     "end_time": null,
     "exception": null,
     "start_time": null,
     "status": "pending"
    },
    "tags": []
   },
   "outputs": [],
   "source": [
    "world2.objective"
   ]
  },
  {
   "cell_type": "code",
   "execution_count": null,
   "id": "e07bf598",
   "metadata": {
    "execution": {
     "iopub.execute_input": "2022-12-03T18:47:42.883743Z",
     "iopub.status.busy": "2022-12-03T18:47:42.882645Z",
     "iopub.status.idle": "2022-12-03T18:47:42.955962Z",
     "shell.execute_reply": "2022-12-03T18:47:42.955064Z",
     "shell.execute_reply.started": "2022-12-03T18:47:42.883695Z"
    },
    "id": "a5b52228",
    "outputId": "91cfd3cf-f467-4b34-e79b-52a20acbbb62",
    "papermill": {
     "duration": null,
     "end_time": null,
     "exception": null,
     "start_time": null,
     "status": "pending"
    },
    "tags": []
   },
   "outputs": [],
   "source": [
    "device = torch.device(\"cuda\" if torch.cuda.is_available() else \"cpu\")\n",
    "device"
   ]
  },
  {
   "cell_type": "code",
   "execution_count": null,
   "id": "d685c591",
   "metadata": {
    "execution": {
     "iopub.execute_input": "2022-12-03T18:47:44.326566Z",
     "iopub.status.busy": "2022-12-03T18:47:44.325471Z",
     "iopub.status.idle": "2022-12-03T18:48:53.438249Z",
     "shell.execute_reply": "2022-12-03T18:48:53.437199Z",
     "shell.execute_reply.started": "2022-12-03T18:47:44.326497Z"
    },
    "id": "23eea321",
    "outputId": "789a1d62-d519-4505-b5ea-d1a29504a774",
    "papermill": {
     "duration": null,
     "end_time": null,
     "exception": null,
     "start_time": null,
     "status": "pending"
    },
    "tags": []
   },
   "outputs": [],
   "source": [
    "_model = CLIPModel.from_pretrained('openai/clip-vit-large-patch14').to(device=device)"
   ]
  },
  {
   "cell_type": "code",
   "execution_count": null,
   "id": "8707e2d1",
   "metadata": {
    "execution": {
     "iopub.execute_input": "2022-12-03T18:48:53.442580Z",
     "iopub.status.busy": "2022-12-03T18:48:53.442266Z",
     "iopub.status.idle": "2022-12-03T18:48:56.001442Z",
     "shell.execute_reply": "2022-12-03T18:48:56.000485Z",
     "shell.execute_reply.started": "2022-12-03T18:48:53.442553Z"
    },
    "id": "064cbf8e",
    "outputId": "43796a5e-7c08-4a82-e14c-a724bbe27343",
    "papermill": {
     "duration": null,
     "end_time": null,
     "exception": null,
     "start_time": null,
     "status": "pending"
    },
    "tags": []
   },
   "outputs": [],
   "source": [
    "_processor = CLIPProcessor.from_pretrained('openai/clip-vit-large-patch14')"
   ]
  },
  {
   "cell_type": "code",
   "execution_count": null,
   "id": "89c0bd8b",
   "metadata": {
    "execution": {
     "iopub.execute_input": "2022-12-03T18:48:56.003238Z",
     "iopub.status.busy": "2022-12-03T18:48:56.002786Z",
     "iopub.status.idle": "2022-12-03T18:48:56.009647Z",
     "shell.execute_reply": "2022-12-03T18:48:56.008596Z",
     "shell.execute_reply.started": "2022-12-03T18:48:56.003201Z"
    },
    "papermill": {
     "duration": null,
     "end_time": null,
     "exception": null,
     "start_time": null,
     "status": "pending"
    },
    "tags": []
   },
   "outputs": [],
   "source": [
    "import pandas"
   ]
  },
  {
   "cell_type": "code",
   "execution_count": null,
   "id": "4a539ed0",
   "metadata": {
    "execution": {
     "iopub.execute_input": "2022-12-04T18:44:54.880498Z",
     "iopub.status.busy": "2022-12-04T18:44:54.880111Z",
     "iopub.status.idle": "2022-12-04T18:44:54.887129Z",
     "shell.execute_reply": "2022-12-04T18:44:54.885866Z",
     "shell.execute_reply.started": "2022-12-04T18:44:54.880462Z"
    },
    "papermill": {
     "duration": null,
     "end_time": null,
     "exception": null,
     "start_time": null,
     "status": "pending"
    },
    "tags": []
   },
   "outputs": [],
   "source": [
    "#Sampling agent and goal properties randomly\n",
    "\n",
    "print(SHAPES)\n",
    "NUMBER_OF_IMAGES = 250\n",
    "WIDTH = 1000\n",
    "HEIGHT = 1000\n",
    "DEBUG = False\n",
    "DIR = './'\n",
    "rows = []\n",
    "grid = [5,8,10,15]"
   ]
  },
  {
   "cell_type": "code",
   "execution_count": null,
   "id": "ee11130f",
   "metadata": {
    "execution": {
     "iopub.execute_input": "2022-12-03T21:23:06.932219Z",
     "iopub.status.busy": "2022-12-03T21:23:06.931860Z",
     "iopub.status.idle": "2022-12-03T21:23:06.937849Z",
     "shell.execute_reply": "2022-12-03T21:23:06.936691Z",
     "shell.execute_reply.started": "2022-12-03T21:23:06.932190Z"
    },
    "papermill": {
     "duration": null,
     "end_time": null,
     "exception": null,
     "start_time": null,
     "status": "pending"
    },
    "tags": []
   },
   "outputs": [],
   "source": [
    "from tqdm import tqdm"
   ]
  },
  {
   "cell_type": "code",
   "execution_count": null,
   "id": "865cc112",
   "metadata": {
    "execution": {
     "iopub.execute_input": "2022-12-03T21:23:10.113472Z",
     "iopub.status.busy": "2022-12-03T21:23:10.113113Z",
     "iopub.status.idle": "2022-12-04T01:04:49.977909Z",
     "shell.execute_reply": "2022-12-04T01:04:49.976912Z",
     "shell.execute_reply.started": "2022-12-03T21:23:10.113441Z"
    },
    "papermill": {
     "duration": null,
     "end_time": null,
     "exception": null,
     "start_time": null,
     "status": "pending"
    },
    "tags": []
   },
   "outputs": [],
   "source": [
    "for x in tqdm(range(NUMBER_OF_IMAGES)):\n",
    "    sample_shapes = random.choices(list(SHAPES.keys()), k=2)\n",
    "    sample_colors = random.choices(list(COLORS.keys()), k=2)\n",
    "#     print(sample_shapes)\n",
    "#     print(sample_colors)\n",
    "    worlds = []\n",
    "    for grid_squares in grid :\n",
    "        grid_size = WIDTH//grid_squares\n",
    "        agent = Agent(shape = SHAPES[sample_shapes[0]], color=COLORS[sample_colors[0]], grid_size = grid_size)\n",
    "        goal = Goal(shape = SHAPES[sample_shapes[1]], color=COLORS[sample_colors[1]],grid_size = grid_size)\n",
    "        tempWorld = GridWorld(grid_squares, max_obstacles=0,agent=agent, goal=goal, grid_size=grid_size)\n",
    "        worlds.append(tempWorld)\n",
    "    for world in worlds:\n",
    "        world.update_agent_pos(worlds[0].agent.row,worlds[0].agent.col)\n",
    "        world.update_goal_pos(worlds[0].goal.row,worlds[0].goal.col)\n",
    "        \n",
    "    \n",
    "    for world in worlds:\n",
    "        a_loc = world.agent.get_location()\n",
    "        g_loc = world.goal.get_location()\n",
    "        for i in range(len(world.get_objectives())):\n",
    "            #print(\"World Objective :\", i)\n",
    "            row = {}\n",
    "            world.update_agent_pos(a_loc[0], a_loc[1])\n",
    "            world.update_goal_pos(g_loc[0], g_loc[1])\n",
    "            row['grid_squares'] = world.size\n",
    "\n",
    "            row['agent_shape'] = world.agent.get_shape()\n",
    "            row['agent_color'] = world.agent.get_color()\n",
    "            row['agent_x_loc'] = a_loc[0]\n",
    "            row['agent_y_loc'] = a_loc[1]\n",
    "\n",
    "            row['goal_shape'] = world.goal.get_shape()\n",
    "            row['goal_color'] = world.goal.get_color()\n",
    "            row['goal_x_loc'] = g_loc[0]\n",
    "            row['goal_y_loc'] = g_loc[1]\n",
    "\n",
    "            prev_loc = np.asarray([-1,-1])\n",
    "            curr_loc = a_loc\n",
    "            MAX_STEPS = 2 * world.size\n",
    "            #print(\"max_steps\",MAX_STEPS)\n",
    "            #world.display_image()\n",
    "            current_steps = 0\n",
    "            #print(\"Before while\", world.is_goal_reached())\n",
    "            while (not world.is_goal_reached()) and (current_steps < MAX_STEPS):\n",
    "                torch.cuda.empty_cache()\n",
    "                images = []\n",
    "                agent_locations =[]\n",
    "                curr_loc = world.agent.get_location()\n",
    "                goalReached = False\n",
    "                # 0 - Right, 1 - Down, 2 - Left, 3 - Up\n",
    "                for direction in range(4):\n",
    "                    x_change, y_change = DIR_TO_VEC[direction]\n",
    "                    #print(\"Agent Location before change:\", world.agent.get_location())\n",
    "                    new_row, new_col = world.agent.row + x_change, world.agent.col + y_change\n",
    "                    #print(\"Agent Location After change\",new_row, new_col)\n",
    "                    if world.space_can_be_visited(new_row, new_col):\n",
    "                        #print(\"Possible to reach\")\n",
    "                        world.update_agent_pos(new_row, new_col)\n",
    "                        #print(\"World Reached\",world.is_goal_reached() )\n",
    "                        if world.is_goal_reached():\n",
    "                            #print(\"Goal Reached - BREAK\")\n",
    "                            break\n",
    "                        ##print(\"Updated Agent Position\",world.agent.get_location())\n",
    "                        images.append(world.get_world_image())\n",
    "                        agent_locations.append(world.agent.get_location())\n",
    "                        world.update_agent_pos(curr_loc[0], curr_loc[1])\n",
    "                #print(\"Agent Locations\",agent_locations)\n",
    "                #print(\"Goal Reached or Not :\",world.is_goal_reached())\n",
    "                if not world.is_goal_reached() :\n",
    "                        inputs = _processor(text=[world.get_objectives()[i]], images=images, return_tensors=\"pt\", padding=True).to(device=device)\n",
    "                        outputs = _model(**inputs)\n",
    "                        logits_per_image = outputs.logits_per_image # this is the image-text similarity score\n",
    "                        probs = logits_per_image.softmax(dim=0) # we can take the softmax to get the label probabilities\n",
    "                        ##print(probs)\n",
    "                        probs.detach()\n",
    "                        idx = torch.argmax(probs)\n",
    "                        #print(\"Index \", idx)\n",
    "                        #print(\"ArgMax Location: \", agent_locations[idx][0],agent_locations[idx][1])\n",
    "                        if(agent_locations[idx][0] == prev_loc[0] and agent_locations[idx][1] == prev_loc[1]):\n",
    "                            current_steps = MAX_STEPS\n",
    "                            #print(\" PREVIOUS == FUTURE  & BREAK\")\n",
    "                            break;\n",
    "                        else :\n",
    "                            prev_loc = curr_loc\n",
    "                            curr_loc[0] = agent_locations[idx][0]\n",
    "                            curr_loc[1] = agent_locations[idx][1]\n",
    "\n",
    "                        world.update_agent_pos(agent_locations[idx][0],agent_locations[idx][1])\n",
    "                        #print(agent_locations[idx][0],agent_locations[idx][1])\n",
    "                        #plt.figure()\n",
    "                        #plt.imshow(world.get_world_image())\n",
    "                        logits_per_image.detach()\n",
    "                current_steps = current_steps + 1\n",
    "                #print(\"Current Steps : \", current_steps)\n",
    "            row['goal_reached'] = world.is_goal_reached()\n",
    "            row['steps_taken'] = current_steps\n",
    "            row['goal_objective'] = i\n",
    "            rows.append(row)\n",
    "            #print(\"End of objective: \", world.is_goal_reached(), current_steps)    "
   ]
  },
  {
   "cell_type": "code",
   "execution_count": null,
   "id": "f2a881ea",
   "metadata": {
    "execution": {
     "iopub.execute_input": "2022-12-04T01:04:49.980817Z",
     "iopub.status.busy": "2022-12-04T01:04:49.980109Z",
     "iopub.status.idle": "2022-12-04T01:04:50.024397Z",
     "shell.execute_reply": "2022-12-04T01:04:50.023383Z",
     "shell.execute_reply.started": "2022-12-04T01:04:49.980768Z"
    },
    "papermill": {
     "duration": null,
     "end_time": null,
     "exception": null,
     "start_time": null,
     "status": "pending"
    },
    "tags": []
   },
   "outputs": [],
   "source": [
    "import pandas as pd\n",
    "df = pd.DataFrame(rows)\n",
    "df.to_csv(\"final.csv\",index=False)"
   ]
  },
  {
   "cell_type": "code",
   "execution_count": null,
   "id": "4b4bba95",
   "metadata": {
    "execution": {
     "iopub.execute_input": "2022-12-03T21:11:33.625767Z",
     "iopub.status.busy": "2022-12-03T21:11:33.625399Z",
     "iopub.status.idle": "2022-12-03T21:11:33.651222Z",
     "shell.execute_reply": "2022-12-03T21:11:33.650175Z",
     "shell.execute_reply.started": "2022-12-03T21:11:33.625739Z"
    },
    "papermill": {
     "duration": null,
     "end_time": null,
     "exception": null,
     "start_time": null,
     "status": "pending"
    },
    "tags": []
   },
   "outputs": [],
   "source": [
    "df.head(50)"
   ]
  },
  {
   "cell_type": "code",
   "execution_count": null,
   "id": "45e67015",
   "metadata": {
    "execution": {
     "iopub.execute_input": "2022-12-04T18:47:35.022523Z",
     "iopub.status.busy": "2022-12-04T18:47:35.021926Z",
     "iopub.status.idle": "2022-12-04T18:47:35.598213Z",
     "shell.execute_reply": "2022-12-04T18:47:35.597251Z",
     "shell.execute_reply.started": "2022-12-04T18:47:35.022479Z"
    },
    "papermill": {
     "duration": null,
     "end_time": null,
     "exception": null,
     "start_time": null,
     "status": "pending"
    },
    "tags": []
   },
   "outputs": [],
   "source": [
    "\n",
    "\n",
    "worlds[3].display_image()\n",
    "fig = plt.imshow(worlds[3].get_world_image())\n",
    "print(worlds[2].agent.get_location())\n",
    "print(worlds[2].goal.get_location())\n",
    "fig.set_cmap('hot')\n",
    "fig.axes.get_xaxis().set_visible(False)\n",
    "fig.axes.get_yaxis().set_visible(False)\n",
    "plt.savefig(\"4.png\")"
   ]
  },
  {
   "cell_type": "code",
   "execution_count": null,
   "id": "0916bb14",
   "metadata": {
    "execution": {
     "iopub.execute_input": "2022-12-04T18:45:15.283456Z",
     "iopub.status.busy": "2022-12-04T18:45:15.283079Z",
     "iopub.status.idle": "2022-12-04T18:45:15.293916Z",
     "shell.execute_reply": "2022-12-04T18:45:15.292887Z",
     "shell.execute_reply.started": "2022-12-04T18:45:15.283423Z"
    },
    "papermill": {
     "duration": null,
     "end_time": null,
     "exception": null,
     "start_time": null,
     "status": "pending"
    },
    "tags": []
   },
   "outputs": [],
   "source": [
    "    sample_shapes = random.choices(list(SHAPES.keys()), k=2)\n",
    "    sample_colors = random.choices(list(COLORS.keys()), k=2)\n",
    "#     print(sample_shapes)\n",
    "#     print(sample_colors)\n",
    "    worlds = []\n",
    "    for grid_squares in grid :\n",
    "        grid_size = WIDTH//grid_squares\n",
    "        agent = Agent(shape = SHAPES[sample_shapes[0]], color=COLORS[sample_colors[0]], grid_size = grid_size)\n",
    "        goal = Goal(shape = SHAPES[sample_shapes[1]], color=COLORS[sample_colors[1]],grid_size = grid_size)\n",
    "        tempWorld = GridWorld(grid_squares, max_obstacles=0,agent=agent, goal=goal, grid_size=grid_size)\n",
    "        worlds.append(tempWorld)\n",
    "    for world in worlds:\n",
    "        world.update_agent_pos(worlds[0].agent.row,worlds[0].agent.col)\n",
    "        world.update_goal_pos(worlds[0].goal.row,worlds[0].goal.col)"
   ]
  },
  {
   "cell_type": "code",
   "execution_count": null,
   "id": "b3943f4d",
   "metadata": {
    "execution": {
     "iopub.execute_input": "2022-12-03T20:51:56.594277Z",
     "iopub.status.busy": "2022-12-03T20:51:56.593912Z",
     "iopub.status.idle": "2022-12-03T20:51:56.926621Z",
     "shell.execute_reply": "2022-12-03T20:51:56.925736Z",
     "shell.execute_reply.started": "2022-12-03T20:51:56.594248Z"
    },
    "papermill": {
     "duration": null,
     "end_time": null,
     "exception": null,
     "start_time": null,
     "status": "pending"
    },
    "tags": []
   },
   "outputs": [],
   "source": [
    "worlds[1].display_image()\n",
    "print(worlds[1].agent.get_location())\n",
    "print(worlds[1].goal.get_location())\n",
    "fig.set_cmap('hot')\n",
    "fig.axes.get_xaxis().set_visible(False)\n",
    "fig.axes.get_yaxis().set_visible(False)\n",
    "plt.savefig(\"1.png\")\n",
    "#plt.imshow(world_8.get_world_image())"
   ]
  },
  {
   "cell_type": "code",
   "execution_count": null,
   "id": "cad50bd7",
   "metadata": {
    "execution": {
     "iopub.execute_input": "2022-12-03T20:49:18.168786Z",
     "iopub.status.busy": "2022-12-03T20:49:18.167796Z",
     "iopub.status.idle": "2022-12-03T20:49:18.494314Z",
     "shell.execute_reply": "2022-12-03T20:49:18.493391Z",
     "shell.execute_reply.started": "2022-12-03T20:49:18.168747Z"
    },
    "papermill": {
     "duration": null,
     "end_time": null,
     "exception": null,
     "start_time": null,
     "status": "pending"
    },
    "tags": []
   },
   "outputs": [],
   "source": [
    "worlds[2].display_image()"
   ]
  },
  {
   "cell_type": "code",
   "execution_count": null,
   "id": "63538b02",
   "metadata": {
    "execution": {
     "iopub.execute_input": "2022-12-03T20:49:20.800904Z",
     "iopub.status.busy": "2022-12-03T20:49:20.800436Z",
     "iopub.status.idle": "2022-12-03T20:49:21.154774Z",
     "shell.execute_reply": "2022-12-03T20:49:21.153818Z",
     "shell.execute_reply.started": "2022-12-03T20:49:20.800862Z"
    },
    "papermill": {
     "duration": null,
     "end_time": null,
     "exception": null,
     "start_time": null,
     "status": "pending"
    },
    "tags": []
   },
   "outputs": [],
   "source": [
    "worlds[3].display_image()\n",
    "print(worlds[3].size)"
   ]
  },
  {
   "cell_type": "code",
   "execution_count": null,
   "id": "da193a4b",
   "metadata": {
    "execution": {
     "iopub.execute_input": "2022-12-03T20:42:34.986929Z",
     "iopub.status.busy": "2022-12-03T20:42:34.986551Z",
     "iopub.status.idle": "2022-12-03T20:42:35.317322Z",
     "shell.execute_reply": "2022-12-03T20:42:35.316396Z",
     "shell.execute_reply.started": "2022-12-03T20:42:34.986898Z"
    },
    "papermill": {
     "duration": null,
     "end_time": null,
     "exception": null,
     "start_time": null,
     "status": "pending"
    },
    "tags": []
   },
   "outputs": [],
   "source": [
    "worlds[4].display_image()"
   ]
  },
  {
   "cell_type": "code",
   "execution_count": null,
   "id": "bad21ab5",
   "metadata": {
    "execution": {
     "iopub.execute_input": "2022-12-03T20:52:00.806820Z",
     "iopub.status.busy": "2022-12-03T20:52:00.804969Z",
     "iopub.status.idle": "2022-12-03T20:52:30.196985Z",
     "shell.execute_reply": "2022-12-03T20:52:30.195895Z",
     "shell.execute_reply.started": "2022-12-03T20:52:00.806776Z"
    },
    "id": "adaec4c6",
    "outputId": "92740933-0a69-4a63-9e9e-61221c3e239f",
    "papermill": {
     "duration": null,
     "end_time": null,
     "exception": null,
     "start_time": null,
     "status": "pending"
    },
    "tags": []
   },
   "outputs": [],
   "source": [
    "rows = []\n",
    "for world in worlds:\n",
    "    a_loc = world.agent.get_location()\n",
    "    g_loc = world.goal.get_location()\n",
    "    for i in range(len(world.get_objectives())):\n",
    "        #print(\"World Objective :\", i)\n",
    "        row = {}\n",
    "        world.update_agent_pos(a_loc[0], a_loc[1])\n",
    "        world.update_goal_pos(g_loc[0], g_loc[1])\n",
    "        row['grid_squares'] = world.size\n",
    "        \n",
    "        row['agent_shape'] = world.agent.get_shape()\n",
    "        row['agent_color'] = world.agent.get_color()\n",
    "        row['agent_x_loc'] = a_loc[0]\n",
    "        row['agent_y_loc'] = a_loc[1]\n",
    "        \n",
    "        row['goal_shape'] = world.goal.get_shape()\n",
    "        row['goal_color'] = world.goal.get_color()\n",
    "        row['goal_x_loc'] = g_loc[0]\n",
    "        row['goal_y_loc'] = g_loc[1]\n",
    "        \n",
    "        prev_loc = np.asarray([-1,-1])\n",
    "        curr_loc = a_loc\n",
    "        MAX_STEPS = 2 * world.size\n",
    "        #print(\"max_steps\",MAX_STEPS)\n",
    "        #world.display_image()\n",
    "        current_steps = 0\n",
    "        #print(\"Before while\", world.is_goal_reached())\n",
    "        while (not world.is_goal_reached()) and (current_steps < MAX_STEPS):\n",
    "            torch.cuda.empty_cache()\n",
    "            images = []\n",
    "            agent_locations =[]\n",
    "            curr_loc = world.agent.get_location()\n",
    "            goalReached = False\n",
    "            # 0 - Right, 1 - Down, 2 - Left, 3 - Up\n",
    "            for direction in range(4):\n",
    "                x_change, y_change = DIR_TO_VEC[direction]\n",
    "                print(\"Agent Location before change:\", world.agent.get_location())\n",
    "                new_row, new_col = world.agent.row + x_change, world.agent.col + y_change\n",
    "                #print(\"Agent Location After change\",new_row, new_col)\n",
    "                if world.space_can_be_visited(new_row, new_col):\n",
    "                    print(\"Possible to reach\")\n",
    "                    world.update_agent_pos(new_row, new_col)\n",
    "                    #print(\"World Reached\",world.is_goal_reached() )\n",
    "                    if world.is_goal_reached():\n",
    "                        #print(\"Goal Reached - BREAK\")\n",
    "                        break\n",
    "                    ##print(\"Updated Agent Position\",world.agent.get_location())\n",
    "                    images.append(world.get_world_image())\n",
    "                    agent_locations.append(world.agent.get_location())\n",
    "                    world.update_agent_pos(curr_loc[0], curr_loc[1])\n",
    "            #print(\"Agent Locations\",agent_locations)\n",
    "            #print(\"Goal Reached or Not :\",world.is_goal_reached())\n",
    "            if not world.is_goal_reached() :\n",
    "                    inputs = _processor(text=[world.get_objectives()[i]], images=images, return_tensors=\"pt\", padding=True).to(device=device)\n",
    "                    outputs = _model(**inputs)\n",
    "                    logits_per_image = outputs.logits_per_image # this is the image-text similarity score\n",
    "                    probs = logits_per_image.softmax(dim=0) # we can take the softmax to get the label probabilities\n",
    "                    ##print(probs)\n",
    "                    probs.detach()\n",
    "                    idx = torch.argmax(probs)\n",
    "                    #print(\"Index \", idx)\n",
    "                    #print(\"ArgMax Location: \", agent_locations[idx][0],agent_locations[idx][1])\n",
    "                    if(agent_locations[idx][0] == prev_loc[0] and agent_locations[idx][1] == prev_loc[1]):\n",
    "                        current_steps = MAX_STEPS\n",
    "                        #print(\" PREVIOUS == FUTURE  & BREAK\")\n",
    "                        break;\n",
    "                    else :\n",
    "                        prev_loc = curr_loc\n",
    "                        curr_loc[0] = agent_locations[idx][0]\n",
    "                        curr_loc[1] = agent_locations[idx][1]\n",
    "                    \n",
    "                    world.update_agent_pos(agent_locations[idx][0],agent_locations[idx][1])\n",
    "                    #print(agent_locations[idx][0],agent_locations[idx][1])\n",
    "                    #plt.figure()\n",
    "                    #plt.imshow(world.get_world_image())\n",
    "                    logits_per_image.detach()\n",
    "            current_steps = current_steps + 1\n",
    "            #print(\"Current Steps : \", current_steps)\n",
    "        row['goal_reached'] = world.is_goal_reached()\n",
    "        row['steps_taken'] = current_steps\n",
    "        row['goal_objective'] = i\n",
    "        rows.append(row)\n",
    "        print(\"End of objective: \", world.is_goal_reached(), current_steps)    "
   ]
  },
  {
   "cell_type": "code",
   "execution_count": null,
   "id": "891575cb",
   "metadata": {
    "execution": {
     "iopub.execute_input": "2022-12-03T20:54:57.667232Z",
     "iopub.status.busy": "2022-12-03T20:54:57.666867Z",
     "iopub.status.idle": "2022-12-03T20:54:57.674515Z",
     "shell.execute_reply": "2022-12-03T20:54:57.673333Z",
     "shell.execute_reply.started": "2022-12-03T20:54:57.667201Z"
    },
    "papermill": {
     "duration": null,
     "end_time": null,
     "exception": null,
     "start_time": null,
     "status": "pending"
    },
    "tags": []
   },
   "outputs": [],
   "source": [
    "import pandas as pd\n",
    "df = pd.DataFrame(rows)"
   ]
  },
  {
   "cell_type": "code",
   "execution_count": null,
   "id": "c2d7a346",
   "metadata": {
    "execution": {
     "iopub.execute_input": "2022-12-03T20:55:10.929426Z",
     "iopub.status.busy": "2022-12-03T20:55:10.928507Z",
     "iopub.status.idle": "2022-12-03T20:55:10.946875Z",
     "shell.execute_reply": "2022-12-03T20:55:10.945900Z",
     "shell.execute_reply.started": "2022-12-03T20:55:10.929391Z"
    },
    "papermill": {
     "duration": null,
     "end_time": null,
     "exception": null,
     "start_time": null,
     "status": "pending"
    },
    "tags": []
   },
   "outputs": [],
   "source": [
    "df.head(100)"
   ]
  },
  {
   "cell_type": "code",
   "execution_count": null,
   "id": "965bcd50",
   "metadata": {
    "id": "3Vu4vu1Lm3oQ",
    "outputId": "365dca87-8ee3-4ae6-e6ac-3acc1824fead",
    "papermill": {
     "duration": null,
     "end_time": null,
     "exception": null,
     "start_time": null,
     "status": "pending"
    },
    "tags": []
   },
   "outputs": [],
   "source": [
    "print(agent_locations)"
   ]
  },
  {
   "cell_type": "code",
   "execution_count": null,
   "id": "d9462652",
   "metadata": {
    "execution": {
     "iopub.execute_input": "2022-12-03T08:08:56.567703Z",
     "iopub.status.busy": "2022-12-03T08:08:56.567272Z",
     "iopub.status.idle": "2022-12-03T08:08:56.588623Z",
     "shell.execute_reply": "2022-12-03T08:08:56.587801Z",
     "shell.execute_reply.started": "2022-12-03T08:08:56.567621Z"
    },
    "papermill": {
     "duration": null,
     "end_time": null,
     "exception": null,
     "start_time": null,
     "status": "pending"
    },
    "tags": []
   },
   "outputs": [],
   "source": [
    "#gitub"
   ]
  },
  {
   "cell_type": "code",
   "execution_count": null,
   "id": "5a1a40e9",
   "metadata": {
    "id": "4e32b630",
    "outputId": "ee274a53-f90e-4f0b-d598-ea021d23f8db",
    "papermill": {
     "duration": null,
     "end_time": null,
     "exception": null,
     "start_time": null,
     "status": "pending"
    },
    "tags": []
   },
   "outputs": [],
   "source": []
  },
  {
   "cell_type": "code",
   "execution_count": null,
   "id": "e4cd80c2",
   "metadata": {
    "id": "6966dc12",
    "outputId": "00816c8c-a36b-40c9-db78-35153c48381a",
    "papermill": {
     "duration": null,
     "end_time": null,
     "exception": null,
     "start_time": null,
     "status": "pending"
    },
    "tags": []
   },
   "outputs": [],
   "source": []
  },
  {
   "cell_type": "code",
   "execution_count": null,
   "id": "64fd16f2",
   "metadata": {
    "id": "1bf27cae",
    "outputId": "edaa96ed-6c95-43d1-c183-570e9d75a996",
    "papermill": {
     "duration": null,
     "end_time": null,
     "exception": null,
     "start_time": null,
     "status": "pending"
    },
    "tags": []
   },
   "outputs": [],
   "source": [
    "for image in images:\n",
    "    plt.figure()\n",
    "    plt.imshow(image)"
   ]
  },
  {
   "cell_type": "code",
   "execution_count": null,
   "id": "c9cd1ab4",
   "metadata": {
    "id": "193345ab",
    "outputId": "0fb56c8a-5fbc-43c6-f61a-259258aeeeac",
    "papermill": {
     "duration": null,
     "end_time": null,
     "exception": null,
     "start_time": null,
     "status": "pending"
    },
    "tags": []
   },
   "outputs": [],
   "source": [
    "for direction in range(4):\n",
    "        print(direction)"
   ]
  },
  {
   "cell_type": "code",
   "execution_count": null,
   "id": "0200df28",
   "metadata": {
    "id": "e64f6111",
    "papermill": {
     "duration": null,
     "end_time": null,
     "exception": null,
     "start_time": null,
     "status": "pending"
    },
    "tags": []
   },
   "outputs": [],
   "source": []
  },
  {
   "cell_type": "code",
   "execution_count": null,
   "id": "e1a2304d",
   "metadata": {
    "id": "38425557",
    "outputId": "af703e46-2d96-4387-8f77-e8c9390da18b",
    "papermill": {
     "duration": null,
     "end_time": null,
     "exception": null,
     "start_time": null,
     "status": "pending"
    },
    "tags": []
   },
   "outputs": [],
   "source": [
    "world.display_image()"
   ]
  },
  {
   "cell_type": "code",
   "execution_count": null,
   "id": "c1fe317f",
   "metadata": {
    "id": "3ca364ee",
    "outputId": "58c40a81-e6ec-41a6-d0ea-61b89ca81b17",
    "papermill": {
     "duration": null,
     "end_time": null,
     "exception": null,
     "start_time": null,
     "status": "pending"
    },
    "tags": []
   },
   "outputs": [],
   "source": [
    "print(world.agent.get_location())\n",
    "print(world.goal.get_location())"
   ]
  },
  {
   "cell_type": "code",
   "execution_count": null,
   "id": "80425c7e",
   "metadata": {
    "id": "1885d837",
    "outputId": "266c97d1-4f61-47a0-d193-40efa40fc8c5",
    "papermill": {
     "duration": null,
     "end_time": null,
     "exception": null,
     "start_time": null,
     "status": "pending"
    },
    "tags": []
   },
   "outputs": [],
   "source": [
    "world.update_agent_pos(1,1)\n",
    "print(world.agent.get_location())\n",
    "world.display_image()"
   ]
  },
  {
   "cell_type": "code",
   "execution_count": null,
   "id": "7954de97",
   "metadata": {
    "id": "fc21a078",
    "outputId": "18b72884-5a1d-4a97-826e-633cb3ff89c9",
    "papermill": {
     "duration": null,
     "end_time": null,
     "exception": null,
     "start_time": null,
     "status": "pending"
    },
    "tags": []
   },
   "outputs": [],
   "source": [
    "print(world.is_goal_reached())\n",
    "world.agent.move(Action.LEFT)\n",
    "world.display_image()"
   ]
  },
  {
   "cell_type": "code",
   "execution_count": null,
   "id": "2b96c916",
   "metadata": {
    "id": "d349dfe2",
    "papermill": {
     "duration": null,
     "end_time": null,
     "exception": null,
     "start_time": null,
     "status": "pending"
    },
    "tags": []
   },
   "outputs": [],
   "source": []
  },
  {
   "cell_type": "code",
   "execution_count": null,
   "id": "e4360a69",
   "metadata": {
    "id": "9295c1bd",
    "outputId": "e4facbcd-900a-4c1d-a87e-0ac08630bcd5",
    "papermill": {
     "duration": null,
     "end_time": null,
     "exception": null,
     "start_time": null,
     "status": "pending"
    },
    "tags": []
   },
   "outputs": [],
   "source": [
    "inputs = _processor(text=[world2.objective], images= world2.image, return_tensors=\"pt\", padding=True).to(device=device)\n",
    "outputs = _model(**inputs)\n",
    "logits_per_image = outputs.logits_per_image # this is the image-text similarity score\n",
    "probs = logits_per_image.softmax(dim=0) # we can take the softmax to get the label probabilities\n",
    "print(probs)"
   ]
  },
  {
   "cell_type": "code",
   "execution_count": null,
   "id": "0d88998b",
   "metadata": {
    "id": "1ef169ef",
    "outputId": "3a656c61-1394-4c29-c7d0-b8bdf5e5a845",
    "papermill": {
     "duration": null,
     "end_time": null,
     "exception": null,
     "start_time": null,
     "status": "pending"
    },
    "tags": []
   },
   "outputs": [],
   "source": [
    "logits_per_image"
   ]
  },
  {
   "cell_type": "code",
   "execution_count": null,
   "id": "3a339138",
   "metadata": {
    "id": "5ef62949",
    "outputId": "3632b784-8a71-45b2-d38b-777167eeecbc",
    "papermill": {
     "duration": null,
     "end_time": null,
     "exception": null,
     "start_time": null,
     "status": "pending"
    },
    "tags": []
   },
   "outputs": [],
   "source": [
    "world2.agent.move(Action.RIGHT)\n",
    "world2.display_image()\n",
    "plt.imshow(world2.image)"
   ]
  },
  {
   "cell_type": "code",
   "execution_count": null,
   "id": "475ebb3c",
   "metadata": {
    "id": "f96c0c23",
    "outputId": "59efb8de-f186-46ab-ddb3-688f2621ac56",
    "papermill": {
     "duration": null,
     "end_time": null,
     "exception": null,
     "start_time": null,
     "status": "pending"
    },
    "pycharm": {
     "name": "#%%\n"
    },
    "tags": []
   },
   "outputs": [],
   "source": [
    "\n"
   ]
  },
  {
   "cell_type": "code",
   "execution_count": null,
   "id": "1076bddd",
   "metadata": {
    "id": "d09483a3",
    "outputId": "046854d6-6026-4c00-9e2d-7f72ac35a974",
    "papermill": {
     "duration": null,
     "end_time": null,
     "exception": null,
     "start_time": null,
     "status": "pending"
    },
    "pycharm": {
     "name": "#%%\n"
    },
    "tags": []
   },
   "outputs": [],
   "source": []
  }
 ],
 "metadata": {
  "kernelspec": {
   "display_name": "Python 3",
   "language": "python",
   "name": "python3"
  },
  "language_info": {
   "codemirror_mode": {
    "name": "ipython",
    "version": 3
   },
   "file_extension": ".py",
   "mimetype": "text/x-python",
   "name": "python",
   "nbconvert_exporter": "python",
   "pygments_lexer": "ipython3",
   "version": "3.7.12"
  },
  "papermill": {
   "default_parameters": {},
   "duration": 23.894572,
   "end_time": "2022-12-06T06:38:15.711813",
   "environment_variables": {},
   "exception": true,
   "input_path": "__notebook__.ipynb",
   "output_path": "__notebook__.ipynb",
   "parameters": {},
   "start_time": "2022-12-06T06:37:51.817241",
   "version": "2.3.4"
  }
 },
 "nbformat": 4,
 "nbformat_minor": 5
}
